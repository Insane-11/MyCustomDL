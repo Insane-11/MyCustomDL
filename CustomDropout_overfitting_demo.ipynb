{
  "nbformat": 4,
  "nbformat_minor": 0,
  "metadata": {
    "colab": {
      "provenance": []
    },
    "kernelspec": {
      "name": "python3",
      "display_name": "Python 3"
    },
    "language_info": {
      "name": "python"
    }
  },
  "cells": [
    {
      "cell_type": "code",
      "execution_count": null,
      "metadata": {
        "id": "ygvQyGZaGogw"
      },
      "outputs": [],
      "source": [
        "import numpy as np\n",
        "import matplotlib.pyplot as plt\n",
        "import tensorflow as tf\n",
        "from tensorflow import keras\n",
        "from tensorflow.keras import layers\n",
        "from sklearn.datasets import make_blobs\n",
        "from sklearn.preprocessing import StandardScaler"
      ]
    },
    {
      "cell_type": "code",
      "source": [
        "# Generating synthetic data\n",
        "X, y = make_blobs(n_samples=200, centers=2, n_features=2, cluster_std=0.8, random_state=42)\n",
        "\n",
        "np.random.seed(42)\n",
        "\n",
        "idx_class_0 = np.where(y == 0)[0]\n",
        "idx_class_1 = np.where(y == 1)[0]\n",
        "\n",
        "noisy_indices_0_to_1 = np.random.choice(idx_class_0, 5, replace=False)\n",
        "y[noisy_indices_0_to_1] = 1\n",
        "\n",
        "noisy_indices_1_to_0 = np.random.choice(idx_class_1, 20, replace=False)\n",
        "y[noisy_indices_1_to_0] = 0"
      ],
      "metadata": {
        "id": "8qvwNiivHKQj"
      },
      "execution_count": null,
      "outputs": []
    },
    {
      "cell_type": "code",
      "source": [
        "# Scaling featurs\n",
        "scaler = StandardScaler()\n",
        "X_scaled = scaler.fit_transform(X)"
      ],
      "metadata": {
        "id": "oOwZcvlofr_K"
      },
      "execution_count": null,
      "outputs": []
    },
    {
      "cell_type": "code",
      "source": [
        "# Split into training and validation\n",
        "from sklearn.model_selection import train_test_split\n",
        "X_train, X_val, y_train, y_val = train_test_split(X_scaled, y, test_size = 0.3, random_state = 42)\n",
        "\n",
        "print(f\"Training data shape: {X_train.shape}, {y_train.shape}\")\n",
        "print(f\"Validation data shape: {X_val.shape}, {y_val.shape}\")\n",
        "\n",
        "plt.figure(figsize=(8, 6))\n",
        "plt.scatter(X_train[:, 0], X_train[:, 1], c=y_train, cmap='viridis', s=50, alpha=0.7, label='Training Data')\n",
        "plt.scatter(X_val[:, 0], X_val[:, 1], c=y_val, cmap='viridis', marker='x', s=100, alpha=0.7, label='Validation Data')\n",
        "plt.title('Linearly Separable Data with Misclassified Points')\n",
        "plt.xlabel('Feature 1 (Scaled)')\n",
        "plt.ylabel('Feature 2 (Scaled)')\n",
        "plt.legend()\n",
        "plt.grid(True)\n",
        "plt.show()"
      ],
      "metadata": {
        "id": "zIp9k24BH-1t"
      },
      "execution_count": null,
      "outputs": []
    },
    {
      "cell_type": "code",
      "source": [
        "# Neural network without dropout\n",
        "def build_simple_model():\n",
        "  model = keras.Sequential([\n",
        "      layers.Dense(64, activation = 'relu', input_shape = (2,)),\n",
        "      layers.Dense(64, activation = 'relu'),\n",
        "      layers.Dense(64, activation = 'relu'),\n",
        "      layers.Dense(32, activation = 'relu'),\n",
        "      layers.Dense(1, activation = 'sigmoid')\n",
        "  ])\n",
        "  model.compile(optimizer = 'adam', loss = 'binary_crossentropy', metrics = ['accuracy'])\n",
        "  return model\n",
        "\n",
        "model_without_dropout = build_simple_model()\n",
        "model_without_dropout.summary()"
      ],
      "metadata": {
        "id": "dK__fHeqJYZu"
      },
      "execution_count": null,
      "outputs": []
    },
    {
      "cell_type": "code",
      "source": [
        "# Training the model\n",
        "history_without_dropout = model_without_dropout.fit(X_train, y_train,\n",
        "                                                    epochs = 200,\n",
        "                                                    batch_size = 32,\n",
        "                                                    validation_data = (X_val, y_val),\n",
        "                                                    verbose = 0)\n",
        "# plotting loss and accuracy\n",
        "plt.figure(figsize = (10, 6))\n",
        "\n",
        "plt.subplot(1, 2, 2)\n",
        "plt.plot(history_without_dropout.history['loss'], label = 'Training Loss')\n",
        "plt.plot(history_without_dropout.history['val_loss'], label = 'Validation Loss')\n",
        "plt.title('Model Training Without Dropout')\n",
        "plt.xlabel('Epoch')\n",
        "plt.ylabel('binary Crossentropy')\n",
        "plt.legend()\n",
        "plt.grid(True)\n",
        "plt.show()\n",
        "\n",
        "plt.subplot(1, 2, 2)\n",
        "plt.plot(history_without_dropout.history['accuracy'], label='Training Accuracy')\n",
        "plt.plot(history_without_dropout.history['val_accuracy'], label='Validation Accuracy')\n",
        "plt.title('Accuracy without Dropout (Overfitting)')\n",
        "plt.xlabel('Epoch')\n",
        "plt.ylabel('Accuracy')\n",
        "plt.legend()\n",
        "plt.grid(True)\n",
        "plt.tight_layout()\n",
        "plt.show()"
      ],
      "metadata": {
        "id": "xt0u1J-CKSwm"
      },
      "execution_count": null,
      "outputs": []
    },
    {
      "cell_type": "code",
      "source": [
        "# decision boundary\n",
        "def plot_decision_boundary(model, X, y, title, ax):\n",
        "    x_min, x_max = X[:, 0].min() - 0.5, X[:, 0].max() + 0.5\n",
        "    y_min, y_max = X[:, 1].min() - 0.5, X[:, 1].max() + 0.5\n",
        "    xx, yy = np.meshgrid(np.linspace(x_min, x_max, 100),\n",
        "                         np.linspace(y_min, y_max, 100))\n",
        "    Z = model.predict(np.c_[xx.ravel(), yy.ravel()])\n",
        "    Z = Z.reshape(xx.shape)\n",
        "    Z = (Z > 0.5).astype(int)\n",
        "\n",
        "    ax.contourf(xx, yy, Z, alpha=0.4, cmap='coolwarm')\n",
        "    ax.scatter(X[:, 0], X[:, 1], c=y, s=50, cmap='viridis', edgecolors='k', alpha=0.7)\n",
        "    ax.set_title(title)\n",
        "    ax.set_xlabel('Feature 1')\n",
        "    ax.set_ylabel('Feature 2')\n",
        "\n",
        "\n",
        "fig, ax = plt.subplots(figsize=(8, 6))\n",
        "plot_decision_boundary(model_without_dropout, X_scaled, y, 'Decision Boundary: No Dropout (Overfit)', ax)\n",
        "plt.show()"
      ],
      "metadata": {
        "id": "5Xs3k4YMiFxP"
      },
      "execution_count": null,
      "outputs": []
    },
    {
      "cell_type": "code",
      "source": [
        "# Dropout\n",
        "class CustomDropout(layers.Layer):\n",
        "  def __init__(self, rate, **kwargs):\n",
        "    super(CustomDropout, self).__init__(**kwargs)\n",
        "    if not 0 <= rate <= 1:\n",
        "      raise ValueError(f\"Dropout rate must be between 0 annd 1. Got: {rate}\")\n",
        "    self.rate = rate\n",
        "\n",
        "  def call(self, inputs, training = None):\n",
        "    if training:\n",
        "      keep_prob = 1.0 - self.rate\n",
        "      mask = tf.cast(tf.random.uniform(tf.shape(inputs)) > self.rate, dtype = tf.float32)\n",
        "      outputs = inputs * mask / keep_prob\n",
        "    else:\n",
        "      outputs = inputs\n",
        "    return outputs\n",
        "\n",
        "  def get_config(self):\n",
        "    config = super(CustomerDropout, self).get.config()\n",
        "    config.update({\"rate\": self.rate})\n",
        "    return config\n",
        "\n"
      ],
      "metadata": {
        "id": "3DgzywYgUcSC"
      },
      "execution_count": null,
      "outputs": []
    },
    {
      "cell_type": "code",
      "source": [
        "# Neural network with dropout\n",
        "def new_model(dropout_rate = 0.3):\n",
        "  model = keras.Sequential([\n",
        "      layers.Dense(64, activation = 'relu', input_shape = (2,)),\n",
        "      CustomDropout(dropout_rate),\n",
        "      layers.Dense(64, activation = 'relu'),\n",
        "      CustomDropout(dropout_rate),\n",
        "      layers.Dense(64, activation = 'relu'),\n",
        "      CustomDropout(dropout_rate),\n",
        "      layers.Dense(32, activation = 'relu'),\n",
        "      CustomDropout(dropout_rate),\n",
        "      layers.Dense(1, activation = 'sigmoid')\n",
        "  ])\n",
        "  model.compile(optimizer = 'adam', loss = 'binary_crossentropy', metrics = ['accuracy'])\n",
        "  return model\n",
        "\n",
        "model_with_dropout = new_model(dropout_rate = 0.3)\n",
        "model_with_dropout.summary()"
      ],
      "metadata": {
        "id": "hcfJPogFV365"
      },
      "execution_count": null,
      "outputs": []
    },
    {
      "cell_type": "code",
      "source": [
        "# Training the new Model\n",
        "history_with_dropout = model_with_dropout.fit(X_train, y_train,\n",
        "                                     epochs = 200,\n",
        "                                     batch_size = 32,\n",
        "                                     validation_data = (X_val, y_val),\n",
        "                                     verbose = 0)\n",
        "\n",
        "# plotting loss and accuracy\n",
        "plt.figure(figsize = (10,6))\n",
        "\n",
        "plt.subplot(1, 2, 1)\n",
        "plt.plot(history_with_dropout.history['loss'], label = 'Training Loss (with dropout)')\n",
        "plt.plot(history_with_dropout.history['val_loss'], label = 'Validatiion Loss (with dropout)')\n",
        "plt.title('Model Trainin With Custom Dropout')\n",
        "plt.xlabel('Epoch')\n",
        "plt.ylabel('Mean Squared Error(MSE)')\n",
        "plt.legend()\n",
        "plt.grid(True)\n",
        "plt.show()\n",
        "\n",
        "plt.subplot(1, 2, 2)\n",
        "plt.plot(history_with_dropout.history['accuracy'], label='Training Accuracy (with Dropout)')\n",
        "plt.plot(history_with_dropout.history['val_accuracy'], label='Validation Accuracy (with Dropout)')\n",
        "plt.title('Accuracy with Custom Dropout (Improved Generalization)')\n",
        "plt.xlabel('Epoch')\n",
        "plt.ylabel('Accuracy')\n",
        "plt.legend()\n",
        "plt.grid(True)\n",
        "plt.tight_layout()\n",
        "plt.show()"
      ],
      "metadata": {
        "id": "IM6Em9-tXmf6"
      },
      "execution_count": null,
      "outputs": []
    },
    {
      "cell_type": "code",
      "source": [
        "# decision boundary\n",
        "def plot_decision_boundary(model, X, y, title, ax):\n",
        "    x_min, x_max = X[:, 0].min() - 0.5, X[:, 0].max() + 0.5\n",
        "    y_min, y_max = X[:, 1].min() - 0.5, X[:, 1].max() + 0.5\n",
        "    xx, yy = np.meshgrid(np.linspace(x_min, x_max, 100),\n",
        "                         np.linspace(y_min, y_max, 100))\n",
        "\n",
        "    Z = model.predict(np.c_[xx.ravel(), yy.ravel()])\n",
        "    Z = Z.reshape(xx.shape)\n",
        "    Z = (Z > 0.5).astype(int)\n",
        "\n",
        "    ax.contourf(xx, yy, Z, alpha=0.4, cmap='coolwarm')\n",
        "    ax.scatter(X[:, 0], X[:, 1], c=y, s=50, cmap='viridis', edgecolors='k', alpha=0.7)\n",
        "    ax.set_title(title)\n",
        "    ax.set_xlabel('Feature 1')\n",
        "    ax.set_ylabel('Feature 2')\n",
        "fig, ax = plt.subplots(figsize=(8, 6))\n",
        "plot_decision_boundary(model_with_dropout, X_scaled, y, 'Decision Boundary: With Dropout (Smoother)', ax)\n",
        "plt.show()"
      ],
      "metadata": {
        "id": "yHj45LGLmMYW"
      },
      "execution_count": null,
      "outputs": []
    },
    {
      "cell_type": "code",
      "source": [
        "# Comparision\n",
        "plt.figure(figsize = (12,7))\n",
        "plt.plot(history_without_dropout.history['val_loss'], label = 'Validation Loss (without Dropout)', linestyle = '--')\n",
        "plt.plot(history_with_dropout.history['val_loss'], label = 'Validation Loss (with Dropout)')\n",
        "plt.title('Comparision of Validation Loss: No Dropout vs. With Dropout')\n",
        "plt.xlabel('Epochs')\n",
        "plt.ylabel('Binary Crossentropy')\n",
        "plt.legend()\n",
        "plt.grid(True)\n",
        "plt.show()"
      ],
      "metadata": {
        "id": "ONUYiJZvbGBL"
      },
      "execution_count": null,
      "outputs": []
    }
  ]
}